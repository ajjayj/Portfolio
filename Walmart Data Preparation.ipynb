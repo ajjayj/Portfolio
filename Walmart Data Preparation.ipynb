{
 "cells": [
  {
   "cell_type": "code",
   "execution_count": 1,
   "metadata": {},
   "outputs": [],
   "source": [
    "import pandas as pd\n",
    "import numpy as np\n",
    "pd.set_option('display.max_columns', 500)\n",
    "import matplotlib.pyplot as plt\n",
    "%matplotlib inline\n",
    "from sklearn.linear_model import LinearRegression"
   ]
  },
  {
   "cell_type": "code",
   "execution_count": 2,
   "metadata": {},
   "outputs": [],
   "source": [
    "train_data = pd.read_csv('Train_Kaggle.csv')\n",
    "macro_economics_data = pd.read_excel('MacroEconomicData.xlsx')"
   ]
  },
  {
   "cell_type": "code",
   "execution_count": 3,
   "metadata": {},
   "outputs": [
    {
     "name": "stdout",
     "output_type": "stream",
     "text": [
      "<class 'pandas.core.frame.DataFrame'>\n",
      "RangeIndex: 150 entries, 0 to 149\n",
      "Data columns (total 4 columns):\n",
      "Year           150 non-null int64\n",
      "MonthDate      150 non-null datetime64[ns]\n",
      "Event          150 non-null object\n",
      "DayCategory    150 non-null object\n",
      "dtypes: datetime64[ns](1), int64(1), object(2)\n",
      "memory usage: 4.8+ KB\n"
     ]
    }
   ],
   "source": [
    "events_data = pd.read_excel('Events_HolidaysData.xlsx')\n",
    "events_data.info()"
   ]
  },
  {
   "cell_type": "code",
   "execution_count": 4,
   "metadata": {},
   "outputs": [],
   "source": [
    "all_weather_data = pd.DataFrame()\n",
    "for i in ['2009','2010','2011','2012','2013','2014','2015','2016']:\n",
    "    data = pd.read_excel('WeatherData.xlsx',sheet_name=i,\n",
    "                         names=['Year', 'Month', 'Day', 'Temp_high', 'Temp_avg',\n",
    "       'Temp_low', 'Dew_Point_high', 'Dew_Point_avg',\n",
    "       'Dew_Point_low', 'Humidity_high', 'Humidity_avg',\n",
    "       'Humidity_low', 'Sea_Level_Press_high',\n",
    "       'Sea_Level_Press_avg', 'Sea_Level_Press_low',\n",
    "       'Visibility_high', 'Visibility_avg', 'Visibility_low',\n",
    "       'Wind_low', 'Wind_avg', 'Wind_high',\n",
    "       'Precip_sum', 'WeatherEvent'])\n",
    "    data['Year'] = int(i)\n",
    "    all_weather_data = pd.concat([all_weather_data,data],axis=0)\n",
    "    #print(all_weather_data.head())"
   ]
  },
  {
   "cell_type": "raw",
   "metadata": {},
   "source": [
    "all_weather_data.columns\n",
    "Index(['Year', 'Month', 'Day', 'Temp high (°C)', 'Temp avg (°C)',\n",
    "       'Temp low (°C)', 'Dew Point high (°C)', 'Dew Point avg (°C)',\n",
    "       'Dew Point low (°C)', 'Humidity (%) high', 'Humidity (%) avg',\n",
    "       'Humidity (%) low', 'Sea Level Press. (hPa) high',\n",
    "       'Sea Level Press. (hPa) avg', 'Sea Level Press. (hPa) low',\n",
    "       'Visibility (km) high', 'Visibility (km) avg', 'Visibility (km) low',\n",
    "       'Wind (km/h) low', 'Wind (km/h) avg', 'Wind (km/h) high',\n",
    "       'Precip. (mm) sum', 'WeatherEvent'],\n",
    "      dtype='object')"
   ]
  },
  {
   "cell_type": "code",
   "execution_count": 5,
   "metadata": {},
   "outputs": [
    {
     "data": {
      "text/html": [
       "<div>\n",
       "<style scoped>\n",
       "    .dataframe tbody tr th:only-of-type {\n",
       "        vertical-align: middle;\n",
       "    }\n",
       "\n",
       "    .dataframe tbody tr th {\n",
       "        vertical-align: top;\n",
       "    }\n",
       "\n",
       "    .dataframe thead th {\n",
       "        text-align: right;\n",
       "    }\n",
       "</style>\n",
       "<table border=\"1\" class=\"dataframe\">\n",
       "  <thead>\n",
       "    <tr style=\"text-align: right;\">\n",
       "      <th></th>\n",
       "      <th>Year</th>\n",
       "      <th>Month</th>\n",
       "      <th>Day</th>\n",
       "      <th>Temp_high</th>\n",
       "      <th>Temp_avg</th>\n",
       "      <th>Temp_low</th>\n",
       "      <th>Dew_Point_high</th>\n",
       "      <th>Dew_Point_avg</th>\n",
       "      <th>Dew_Point_low</th>\n",
       "      <th>Humidity_high</th>\n",
       "      <th>Humidity_avg</th>\n",
       "      <th>Humidity_low</th>\n",
       "      <th>Sea_Level_Press_high</th>\n",
       "      <th>Sea_Level_Press_avg</th>\n",
       "      <th>Sea_Level_Press_low</th>\n",
       "      <th>Visibility_high</th>\n",
       "      <th>Visibility_avg</th>\n",
       "      <th>Visibility_low</th>\n",
       "      <th>Wind_low</th>\n",
       "      <th>Wind_avg</th>\n",
       "      <th>Wind_high</th>\n",
       "      <th>Precip_sum</th>\n",
       "      <th>WeatherEvent</th>\n",
       "    </tr>\n",
       "  </thead>\n",
       "  <tbody>\n",
       "    <tr>\n",
       "      <th>0</th>\n",
       "      <td>2009</td>\n",
       "      <td>Jan</td>\n",
       "      <td>1.0</td>\n",
       "      <td>-3</td>\n",
       "      <td>-6</td>\n",
       "      <td>-9</td>\n",
       "      <td>-16</td>\n",
       "      <td>-17</td>\n",
       "      <td>-19</td>\n",
       "      <td>54</td>\n",
       "      <td>43</td>\n",
       "      <td>32</td>\n",
       "      <td>1025</td>\n",
       "      <td>1023</td>\n",
       "      <td>1015</td>\n",
       "      <td>16</td>\n",
       "      <td>16</td>\n",
       "      <td>16</td>\n",
       "      <td>37</td>\n",
       "      <td>18</td>\n",
       "      <td>60</td>\n",
       "      <td>0</td>\n",
       "      <td>NaN</td>\n",
       "    </tr>\n",
       "    <tr>\n",
       "      <th>1</th>\n",
       "      <td>2009</td>\n",
       "      <td>Jan</td>\n",
       "      <td>2.0</td>\n",
       "      <td>1</td>\n",
       "      <td>-2</td>\n",
       "      <td>-5</td>\n",
       "      <td>-3</td>\n",
       "      <td>-7</td>\n",
       "      <td>-17</td>\n",
       "      <td>78</td>\n",
       "      <td>57</td>\n",
       "      <td>36</td>\n",
       "      <td>1022</td>\n",
       "      <td>1012</td>\n",
       "      <td>1007</td>\n",
       "      <td>16</td>\n",
       "      <td>13</td>\n",
       "      <td>2</td>\n",
       "      <td>27</td>\n",
       "      <td>10</td>\n",
       "      <td>48</td>\n",
       "      <td>T</td>\n",
       "      <td>Snow</td>\n",
       "    </tr>\n",
       "    <tr>\n",
       "      <th>2</th>\n",
       "      <td>2009</td>\n",
       "      <td>Jan</td>\n",
       "      <td>3.0</td>\n",
       "      <td>3</td>\n",
       "      <td>1</td>\n",
       "      <td>-2</td>\n",
       "      <td>-5</td>\n",
       "      <td>-9</td>\n",
       "      <td>-13</td>\n",
       "      <td>72</td>\n",
       "      <td>54</td>\n",
       "      <td>35</td>\n",
       "      <td>1018</td>\n",
       "      <td>1015</td>\n",
       "      <td>1008</td>\n",
       "      <td>16</td>\n",
       "      <td>16</td>\n",
       "      <td>16</td>\n",
       "      <td>27</td>\n",
       "      <td>16</td>\n",
       "      <td>42</td>\n",
       "      <td>T</td>\n",
       "      <td>NaN</td>\n",
       "    </tr>\n",
       "    <tr>\n",
       "      <th>3</th>\n",
       "      <td>2009</td>\n",
       "      <td>Jan</td>\n",
       "      <td>4.0</td>\n",
       "      <td>6</td>\n",
       "      <td>1</td>\n",
       "      <td>-4</td>\n",
       "      <td>-10</td>\n",
       "      <td>-12</td>\n",
       "      <td>-13</td>\n",
       "      <td>55</td>\n",
       "      <td>42</td>\n",
       "      <td>29</td>\n",
       "      <td>1020</td>\n",
       "      <td>1017</td>\n",
       "      <td>1015</td>\n",
       "      <td>16</td>\n",
       "      <td>16</td>\n",
       "      <td>16</td>\n",
       "      <td>32</td>\n",
       "      <td>12</td>\n",
       "      <td>40</td>\n",
       "      <td>0</td>\n",
       "      <td>NaN</td>\n",
       "    </tr>\n",
       "    <tr>\n",
       "      <th>4</th>\n",
       "      <td>2009</td>\n",
       "      <td>Jan</td>\n",
       "      <td>5.0</td>\n",
       "      <td>6</td>\n",
       "      <td>5</td>\n",
       "      <td>3</td>\n",
       "      <td>-1</td>\n",
       "      <td>-5</td>\n",
       "      <td>-16</td>\n",
       "      <td>62</td>\n",
       "      <td>48</td>\n",
       "      <td>33</td>\n",
       "      <td>1016</td>\n",
       "      <td>1014</td>\n",
       "      <td>1013</td>\n",
       "      <td>16</td>\n",
       "      <td>16</td>\n",
       "      <td>16</td>\n",
       "      <td>23</td>\n",
       "      <td>11</td>\n",
       "      <td>34</td>\n",
       "      <td>T</td>\n",
       "      <td>NaN</td>\n",
       "    </tr>\n",
       "  </tbody>\n",
       "</table>\n",
       "</div>"
      ],
      "text/plain": [
       "   Year Month  Day Temp_high Temp_avg Temp_low Dew_Point_high Dew_Point_avg  \\\n",
       "0  2009   Jan  1.0        -3       -6       -9            -16           -17   \n",
       "1  2009   Jan  2.0         1       -2       -5             -3            -7   \n",
       "2  2009   Jan  3.0         3        1       -2             -5            -9   \n",
       "3  2009   Jan  4.0         6        1       -4            -10           -12   \n",
       "4  2009   Jan  5.0         6        5        3             -1            -5   \n",
       "\n",
       "  Dew_Point_low Humidity_high Humidity_avg Humidity_low Sea_Level_Press_high  \\\n",
       "0           -19            54           43           32                 1025   \n",
       "1           -17            78           57           36                 1022   \n",
       "2           -13            72           54           35                 1018   \n",
       "3           -13            55           42           29                 1020   \n",
       "4           -16            62           48           33                 1016   \n",
       "\n",
       "  Sea_Level_Press_avg Sea_Level_Press_low Visibility_high Visibility_avg  \\\n",
       "0                1023                1015              16             16   \n",
       "1                1012                1007              16             13   \n",
       "2                1015                1008              16             16   \n",
       "3                1017                1015              16             16   \n",
       "4                1014                1013              16             16   \n",
       "\n",
       "  Visibility_low Wind_low Wind_avg Wind_high Precip_sum WeatherEvent  \n",
       "0             16       37       18        60          0          NaN  \n",
       "1              2       27       10        48          T         Snow  \n",
       "2             16       27       16        42          T          NaN  \n",
       "3             16       32       12        40          0          NaN  \n",
       "4             16       23       11        34          T          NaN  "
      ]
     },
     "execution_count": 5,
     "metadata": {},
     "output_type": "execute_result"
    }
   ],
   "source": [
    "all_weather_data.head()"
   ]
  },
  {
   "cell_type": "code",
   "execution_count": 6,
   "metadata": {},
   "outputs": [],
   "source": [
    "all_weather_data[['Temp_high', 'Temp_avg', 'Temp_low',\n",
    "       'Dew_Point_high', 'Dew_Point_avg', 'Dew_Point_low', 'Humidity_high',\n",
    "       'Humidity_avg', 'Humidity_low', 'Sea_Level_Press_high',\n",
    "       'Sea_Level_Press_avg', 'Sea_Level_Press_low', 'Visibility_high',\n",
    "       'Visibility_avg', 'Visibility_low', 'Wind_low', 'Wind_avg', 'Wind_high',\n",
    "       'Precip_sum']] = all_weather_data[['Temp_high', 'Temp_avg', 'Temp_low',\n",
    "       'Dew_Point_high', 'Dew_Point_avg', 'Dew_Point_low', 'Humidity_high',\n",
    "       'Humidity_avg', 'Humidity_low', 'Sea_Level_Press_high',\n",
    "       'Sea_Level_Press_avg', 'Sea_Level_Press_low', 'Visibility_high',\n",
    "       'Visibility_avg', 'Visibility_low', 'Wind_low', 'Wind_avg', 'Wind_high',\n",
    "       'Precip_sum']].apply(lambda x: pd.to_numeric(x, errors='coerce'))"
   ]
  },
  {
   "cell_type": "code",
   "execution_count": 7,
   "metadata": {},
   "outputs": [],
   "source": [
    "# missing data\n",
    "# all_weather_data[all_weather_data.isnull().any(axis=1)]"
   ]
  },
  {
   "cell_type": "markdown",
   "metadata": {},
   "source": [
    "# Prepare Weather Data"
   ]
  },
  {
   "cell_type": "code",
   "execution_count": 8,
   "metadata": {
    "scrolled": true
   },
   "outputs": [
    {
     "data": {
      "text/html": [
       "<div>\n",
       "<style scoped>\n",
       "    .dataframe tbody tr th:only-of-type {\n",
       "        vertical-align: middle;\n",
       "    }\n",
       "\n",
       "    .dataframe tbody tr th {\n",
       "        vertical-align: top;\n",
       "    }\n",
       "\n",
       "    .dataframe thead th {\n",
       "        text-align: right;\n",
       "    }\n",
       "</style>\n",
       "<table border=\"1\" class=\"dataframe\">\n",
       "  <thead>\n",
       "    <tr style=\"text-align: right;\">\n",
       "      <th></th>\n",
       "      <th>Year</th>\n",
       "      <th>Month</th>\n",
       "      <th>Day</th>\n",
       "      <th>Temp_high</th>\n",
       "      <th>Temp_avg</th>\n",
       "      <th>Temp_low</th>\n",
       "      <th>Dew_Point_high</th>\n",
       "      <th>Dew_Point_avg</th>\n",
       "      <th>Dew_Point_low</th>\n",
       "      <th>Humidity_high</th>\n",
       "      <th>Humidity_avg</th>\n",
       "      <th>Humidity_low</th>\n",
       "      <th>Sea_Level_Press_high</th>\n",
       "      <th>Sea_Level_Press_avg</th>\n",
       "      <th>Sea_Level_Press_low</th>\n",
       "      <th>Visibility_high</th>\n",
       "      <th>Visibility_avg</th>\n",
       "      <th>Visibility_low</th>\n",
       "      <th>Wind_low</th>\n",
       "      <th>Wind_avg</th>\n",
       "      <th>Wind_high</th>\n",
       "      <th>Precip_sum</th>\n",
       "    </tr>\n",
       "  </thead>\n",
       "  <tbody>\n",
       "    <tr>\n",
       "      <th>4</th>\n",
       "      <td>2009</td>\n",
       "      <td>1</td>\n",
       "      <td>16.0</td>\n",
       "      <td>0.741935</td>\n",
       "      <td>-2.096774</td>\n",
       "      <td>-5.322581</td>\n",
       "      <td>-6.096774</td>\n",
       "      <td>-9.903226</td>\n",
       "      <td>-14.000000</td>\n",
       "      <td>71.774194</td>\n",
       "      <td>57.354839</td>\n",
       "      <td>42.322581</td>\n",
       "      <td>1021.290323</td>\n",
       "      <td>1015.967742</td>\n",
       "      <td>1010.516129</td>\n",
       "      <td>16.000000</td>\n",
       "      <td>14.000000</td>\n",
       "      <td>11.451613</td>\n",
       "      <td>27.000000</td>\n",
       "      <td>12.000000</td>\n",
       "      <td>39.322581</td>\n",
       "      <td>2.803704</td>\n",
       "    </tr>\n",
       "    <tr>\n",
       "      <th>3</th>\n",
       "      <td>2009</td>\n",
       "      <td>2</td>\n",
       "      <td>14.5</td>\n",
       "      <td>6.964286</td>\n",
       "      <td>2.785714</td>\n",
       "      <td>-1.642857</td>\n",
       "      <td>-2.464286</td>\n",
       "      <td>-6.392857</td>\n",
       "      <td>-10.571429</td>\n",
       "      <td>69.535714</td>\n",
       "      <td>54.000000</td>\n",
       "      <td>38.107143</td>\n",
       "      <td>1021.714286</td>\n",
       "      <td>1017.071429</td>\n",
       "      <td>1012.464286</td>\n",
       "      <td>16.000000</td>\n",
       "      <td>15.178571</td>\n",
       "      <td>13.285714</td>\n",
       "      <td>27.928571</td>\n",
       "      <td>12.214286</td>\n",
       "      <td>41.642857</td>\n",
       "      <td>0.840385</td>\n",
       "    </tr>\n",
       "    <tr>\n",
       "      <th>7</th>\n",
       "      <td>2009</td>\n",
       "      <td>3</td>\n",
       "      <td>16.0</td>\n",
       "      <td>9.838710</td>\n",
       "      <td>5.967742</td>\n",
       "      <td>1.774194</td>\n",
       "      <td>0.258065</td>\n",
       "      <td>-2.903226</td>\n",
       "      <td>-6.741935</td>\n",
       "      <td>74.096774</td>\n",
       "      <td>57.064516</td>\n",
       "      <td>39.548387</td>\n",
       "      <td>1025.096774</td>\n",
       "      <td>1021.064516</td>\n",
       "      <td>1017.032258</td>\n",
       "      <td>16.000000</td>\n",
       "      <td>14.258065</td>\n",
       "      <td>10.677419</td>\n",
       "      <td>27.000000</td>\n",
       "      <td>11.387097</td>\n",
       "      <td>38.612903</td>\n",
       "      <td>1.481667</td>\n",
       "    </tr>\n",
       "    <tr>\n",
       "      <th>0</th>\n",
       "      <td>2009</td>\n",
       "      <td>4</td>\n",
       "      <td>15.5</td>\n",
       "      <td>17.100000</td>\n",
       "      <td>12.733333</td>\n",
       "      <td>7.833333</td>\n",
       "      <td>6.233333</td>\n",
       "      <td>2.533333</td>\n",
       "      <td>-1.200000</td>\n",
       "      <td>75.466667</td>\n",
       "      <td>55.700000</td>\n",
       "      <td>35.733333</td>\n",
       "      <td>1018.833333</td>\n",
       "      <td>1014.533333</td>\n",
       "      <td>1010.433333</td>\n",
       "      <td>15.900000</td>\n",
       "      <td>14.066667</td>\n",
       "      <td>10.866667</td>\n",
       "      <td>27.300000</td>\n",
       "      <td>11.366667</td>\n",
       "      <td>39.566667</td>\n",
       "      <td>4.411852</td>\n",
       "    </tr>\n",
       "    <tr>\n",
       "      <th>8</th>\n",
       "      <td>2009</td>\n",
       "      <td>5</td>\n",
       "      <td>16.0</td>\n",
       "      <td>21.354839</td>\n",
       "      <td>17.000000</td>\n",
       "      <td>12.483871</td>\n",
       "      <td>12.967742</td>\n",
       "      <td>10.096774</td>\n",
       "      <td>6.516129</td>\n",
       "      <td>85.645161</td>\n",
       "      <td>68.516129</td>\n",
       "      <td>50.935484</td>\n",
       "      <td>1020.419355</td>\n",
       "      <td>1017.161290</td>\n",
       "      <td>1014.129032</td>\n",
       "      <td>15.903226</td>\n",
       "      <td>12.451613</td>\n",
       "      <td>9.000000</td>\n",
       "      <td>22.379310</td>\n",
       "      <td>8.000000</td>\n",
       "      <td>32.620690</td>\n",
       "      <td>4.527586</td>\n",
       "    </tr>\n",
       "  </tbody>\n",
       "</table>\n",
       "</div>"
      ],
      "text/plain": [
       "   Year  Month   Day  Temp_high   Temp_avg   Temp_low  Dew_Point_high  \\\n",
       "4  2009      1  16.0   0.741935  -2.096774  -5.322581       -6.096774   \n",
       "3  2009      2  14.5   6.964286   2.785714  -1.642857       -2.464286   \n",
       "7  2009      3  16.0   9.838710   5.967742   1.774194        0.258065   \n",
       "0  2009      4  15.5  17.100000  12.733333   7.833333        6.233333   \n",
       "8  2009      5  16.0  21.354839  17.000000  12.483871       12.967742   \n",
       "\n",
       "   Dew_Point_avg  Dew_Point_low  Humidity_high  Humidity_avg  Humidity_low  \\\n",
       "4      -9.903226     -14.000000      71.774194     57.354839     42.322581   \n",
       "3      -6.392857     -10.571429      69.535714     54.000000     38.107143   \n",
       "7      -2.903226      -6.741935      74.096774     57.064516     39.548387   \n",
       "0       2.533333      -1.200000      75.466667     55.700000     35.733333   \n",
       "8      10.096774       6.516129      85.645161     68.516129     50.935484   \n",
       "\n",
       "   Sea_Level_Press_high  Sea_Level_Press_avg  Sea_Level_Press_low  \\\n",
       "4           1021.290323          1015.967742          1010.516129   \n",
       "3           1021.714286          1017.071429          1012.464286   \n",
       "7           1025.096774          1021.064516          1017.032258   \n",
       "0           1018.833333          1014.533333          1010.433333   \n",
       "8           1020.419355          1017.161290          1014.129032   \n",
       "\n",
       "   Visibility_high  Visibility_avg  Visibility_low   Wind_low   Wind_avg  \\\n",
       "4        16.000000       14.000000       11.451613  27.000000  12.000000   \n",
       "3        16.000000       15.178571       13.285714  27.928571  12.214286   \n",
       "7        16.000000       14.258065       10.677419  27.000000  11.387097   \n",
       "0        15.900000       14.066667       10.866667  27.300000  11.366667   \n",
       "8        15.903226       12.451613        9.000000  22.379310   8.000000   \n",
       "\n",
       "   Wind_high  Precip_sum  \n",
       "4  39.322581    2.803704  \n",
       "3  41.642857    0.840385  \n",
       "7  38.612903    1.481667  \n",
       "0  39.566667    4.411852  \n",
       "8  32.620690    4.527586  "
      ]
     },
     "execution_count": 8,
     "metadata": {},
     "output_type": "execute_result"
    }
   ],
   "source": [
    "grouped_data = all_weather_data.groupby(['Year','Month'],as_index=False).mean()\n",
    "grouped_data['Month'] = grouped_data['Month'].replace({'Jan':1,'Feb':2,'Mar':3,'Apr':4,'May':5,'Jun':6,'Jul':7,\n",
    "                              'Aug':8,'Sep':9,'Oct':10,'Nov':11,'Dec':12})\n",
    "grouped_data.sort_values(by=['Year','Month'],axis=0)\n",
    "weather_grouped_data = grouped_data.sort_values(by=['Year','Month'],axis=0)\n",
    "weather_grouped_data = weather_grouped_data[weather_grouped_data['Year'] != 2015]\n",
    "weather_grouped_data = weather_grouped_data[weather_grouped_data['Year'] != 2016]\n",
    "weather_grouped_data.head()"
   ]
  },
  {
   "cell_type": "code",
   "execution_count": 9,
   "metadata": {},
   "outputs": [
    {
     "data": {
      "text/plain": [
       "(72, 22)"
      ]
     },
     "execution_count": 9,
     "metadata": {},
     "output_type": "execute_result"
    }
   ],
   "source": [
    "weather_grouped_data.shape"
   ]
  },
  {
   "cell_type": "markdown",
   "metadata": {},
   "source": [
    "# Prepare Macro Economics Data"
   ]
  },
  {
   "cell_type": "code",
   "execution_count": 10,
   "metadata": {},
   "outputs": [
    {
     "data": {
      "text/plain": [
       "(72, 19)"
      ]
     },
     "execution_count": 10,
     "metadata": {},
     "output_type": "execute_result"
    }
   ],
   "source": [
    "macro_economics_data = pd.read_excel('MacroEconomicData.xlsx')\n",
    "macro_economics_data['Month'] = macro_economics_data['Year-Month'].apply(lambda x : x.split('-')[1].strip())\n",
    "macro_economics_data['Year'] = macro_economics_data['Year-Month'].apply(lambda x : x.split('-')[0].strip())\n",
    "macro_economics_data['Month'] = macro_economics_data['Month'].replace({'Jan':1,'Feb':2,'Mar':3,'Apr':4,'May':5,'Jun':6,'Jul':7,\n",
    "                              'Aug':8,'Sep':9,'Oct':10,'Nov':11,'Dec':12})\n",
    "macro_economics_data = macro_economics_data.drop('Year-Month',axis=1)\n",
    "macro_economics_data = macro_economics_data[macro_economics_data['Year'] != '2015']\n",
    "macro_economics_data = macro_economics_data[macro_economics_data['Year'] != '2016']\n",
    "macro_economics_data['Year'] = macro_economics_data['Year'].astype('int64')\n",
    "macro_economics_data.head()\n",
    "macro_economics_data.shape"
   ]
  },
  {
   "cell_type": "markdown",
   "metadata": {},
   "source": [
    "# Split training data into three"
   ]
  },
  {
   "cell_type": "code",
   "execution_count": 11,
   "metadata": {},
   "outputs": [],
   "source": [
    "train_women_clothing = train_data[train_data['ProductCategory'] == 'WomenClothing']\n",
    "train_other_clothing = train_data[train_data['ProductCategory'] == 'OtherClothing']\n",
    "train_men_clothing = train_data[train_data['ProductCategory'] == 'MenClothing']"
   ]
  },
  {
   "cell_type": "markdown",
   "metadata": {},
   "source": [
    "# Split Events data into Federal & Event Holidays with count, then do a left join with sales data"
   ]
  },
  {
   "cell_type": "code",
   "execution_count": 12,
   "metadata": {},
   "outputs": [],
   "source": [
    "# for later\n",
    "events_data = pd.read_excel('Events_HolidaysData.xlsx')\n",
    "events_data['Month'] = events_data['MonthDate'].apply(lambda x: str(x).split('-')[1])\n",
    "events_data = events_data.drop('MonthDate',axis=1)\n",
    "events_data['Month'] = events_data['Month'].replace({'01':1,'02':2,'03':3,'04':4,'05':5,'06':6,'07':7,'08':8,'09':9})\n",
    "events_data['Month'] = events_data['Month'].astype('int64')\n",
    "events_data = events_data[events_data['Year'] != 2015]\n",
    "events_data = events_data[events_data['Year'] != 2016]\n",
    "events_data_federal_holidays = events_data[events_data['DayCategory'] == 'Federal Holiday']\n",
    "events_data_event_holidays = events_data[events_data['DayCategory'] == 'Event']"
   ]
  },
  {
   "cell_type": "code",
   "execution_count": 13,
   "metadata": {},
   "outputs": [],
   "source": [
    "events_grouped = events_data_event_holidays.groupby(['Year','Month'],as_index=False).count()\n",
    "federal_grouped = events_data_federal_holidays.groupby(['Year','Month'],as_index=False).count()"
   ]
  },
  {
   "cell_type": "markdown",
   "metadata": {},
   "source": [
    "# Need to combine weather data too "
   ]
  },
  {
   "cell_type": "code",
   "execution_count": 14,
   "metadata": {},
   "outputs": [],
   "source": [
    "#combined_data_1 = pd.merge(macro_economics_data,events_data_event_holidays,how='left',left_on=['Month','Year'],\n",
    "#                        right_on=['Month','Year'])\n",
    "#combined_data_2 = pd.merge(combined_data_1,events_data_federal_holidays,how='left',left_on=['Month','Year'],\n",
    "#                        right_on=['Month','Year'])\n",
    "combined_data_1 = pd.merge(macro_economics_data,events_grouped,how='left',left_on=['Month','Year'],\n",
    "                        right_on=['Month','Year'])\n",
    "combined_data_2 = pd.merge(combined_data_1,federal_grouped,how='left',left_on=['Month','Year'],\n",
    "                        right_on=['Month','Year'])"
   ]
  },
  {
   "cell_type": "markdown",
   "metadata": {},
   "source": [
    "# Combine with separate train data from men , women and other clothing sales "
   ]
  },
  {
   "cell_type": "code",
   "execution_count": 15,
   "metadata": {},
   "outputs": [],
   "source": [
    "women_clothing_total_data = pd.merge(combined_data_2,train_women_clothing,how='left',left_on=['Month','Year'],\n",
    "                        right_on=['Month','Year'])\n",
    "men_clothing_total_data = pd.merge(combined_data_2,train_men_clothing,how='left',left_on=['Month','Year'],\n",
    "                        right_on=['Month','Year'])\n",
    "other_clothing_total_data = pd.merge(combined_data_2,train_other_clothing,how='left',left_on=['Month','Year'],\n",
    "                        right_on=['Month','Year'])"
   ]
  },
  {
   "cell_type": "code",
   "execution_count": 16,
   "metadata": {},
   "outputs": [
    {
     "data": {
      "text/plain": [
       "Index(['Monthly Nominal GDP Index (inMillion$)',\n",
       "       'Monthly Real GDP Index (inMillion$)', 'CPI', 'PartyInPower',\n",
       "       'unemployment rate', 'CommercialBankInterestRateonCreditCardPlans',\n",
       "       'Finance Rate on Personal Loans at Commercial Banks, 24 Month Loan',\n",
       "       'Earnings or wages  in dollars per hour',\n",
       "       'AdvertisingExpenses (in Thousand Dollars)',\n",
       "       'Cotton Monthly Price - US cents per Pound(lbs)', 'Change(in%)',\n",
       "       'Average upland planted(million acres)',\n",
       "       'Average upland harvested(million acres)', 'yieldperharvested acre',\n",
       "       'Production (in  480-lb netweright in million bales)',\n",
       "       'Mill use  (in  480-lb netweright in million bales)', 'Exports',\n",
       "       'Month', 'Year', 'Event_x', 'DayCategory_x', 'Event_y', 'DayCategory_y',\n",
       "       'ProductCategory', 'Sales(In ThousandDollars)'],\n",
       "      dtype='object')"
      ]
     },
     "execution_count": 16,
     "metadata": {},
     "output_type": "execute_result"
    }
   ],
   "source": [
    "women_clothing_total_data.columns"
   ]
  },
  {
   "cell_type": "code",
   "execution_count": 23,
   "metadata": {},
   "outputs": [],
   "source": [
    "women_clothing_total_data = pd.merge(combined_data_2,train_women_clothing,how='left',left_on=['Month','Year'],\n",
    "                        right_on=['Month','Year'])\n",
    "women_clothing_total_data = women_clothing_total_data.drop(['AdvertisingExpenses (in Thousand Dollars)','DayCategory_x','DayCategory_y'],axis=1)\n",
    "women_clothing_total_data[['Event_x','Event_y']] = women_clothing_total_data[['Event_x','Event_y']].fillna(0)\n",
    "women_clothing_total_data = women_clothing_total_data.dropna()\n",
    "X = women_clothing_total_data[['Monthly Real GDP Index (inMillion$)','CPI','Month','Event_x']]\n",
    "y = women_clothing_total_data['Sales(In ThousandDollars)']"
   ]
  },
  {
   "cell_type": "code",
   "execution_count": 27,
   "metadata": {},
   "outputs": [
    {
     "data": {
      "text/plain": [
       "0.7942396699280857"
      ]
     },
     "execution_count": 27,
     "metadata": {},
     "output_type": "execute_result"
    }
   ],
   "source": [
    "lr = LinearRegression()\n",
    "lr.fit(X,y)\n",
    "lr.score(X,y)"
   ]
  },
  {
   "cell_type": "code",
   "execution_count": 43,
   "metadata": {},
   "outputs": [],
   "source": [
    "from sklearn.tree import DecisionTreeRegressor"
   ]
  },
  {
   "cell_type": "code",
   "execution_count": 40,
   "metadata": {},
   "outputs": [],
   "source": [
    "dt_rg = DecisionTreeRegressor()"
   ]
  },
  {
   "cell_type": "code",
   "execution_count": 41,
   "metadata": {},
   "outputs": [
    {
     "data": {
      "text/plain": [
       "DecisionTreeRegressor(criterion='mse', max_depth=None, max_features=None,\n",
       "           max_leaf_nodes=None, min_impurity_decrease=0.0,\n",
       "           min_impurity_split=None, min_samples_leaf=1,\n",
       "           min_samples_split=2, min_weight_fraction_leaf=0.0,\n",
       "           presort=False, random_state=None, splitter='best')"
      ]
     },
     "execution_count": 41,
     "metadata": {},
     "output_type": "execute_result"
    }
   ],
   "source": [
    "dt_rg.fit(X,y)"
   ]
  },
  {
   "cell_type": "code",
   "execution_count": null,
   "metadata": {},
   "outputs": [],
   "source": []
  },
  {
   "cell_type": "code",
   "execution_count": 57,
   "metadata": {},
   "outputs": [],
   "source": [
    "women_clothing_total_data.to_excel(\"women.xlsx\")"
   ]
  },
  {
   "cell_type": "code",
   "execution_count": null,
   "metadata": {},
   "outputs": [],
   "source": []
  },
  {
   "cell_type": "code",
   "execution_count": null,
   "metadata": {},
   "outputs": [],
   "source": []
  },
  {
   "cell_type": "code",
   "execution_count": 44,
   "metadata": {},
   "outputs": [],
   "source": [
    "from sklearn.ensemble import AdaBoostRegressor"
   ]
  },
  {
   "cell_type": "code",
   "execution_count": 45,
   "metadata": {},
   "outputs": [],
   "source": [
    "ada_rg = AdaBoostRegressor()\n"
   ]
  },
  {
   "cell_type": "code",
   "execution_count": 46,
   "metadata": {},
   "outputs": [
    {
     "data": {
      "text/plain": [
       "AdaBoostRegressor(base_estimator=None, learning_rate=1.0, loss='linear',\n",
       "         n_estimators=50, random_state=None)"
      ]
     },
     "execution_count": 46,
     "metadata": {},
     "output_type": "execute_result"
    }
   ],
   "source": [
    "ada_rg.fit(X,y)"
   ]
  },
  {
   "cell_type": "code",
   "execution_count": 47,
   "metadata": {},
   "outputs": [
    {
     "data": {
      "text/plain": [
       "0.9285800022025923"
      ]
     },
     "execution_count": 47,
     "metadata": {},
     "output_type": "execute_result"
    }
   ],
   "source": [
    "ada_rg.score(X,y)"
   ]
  },
  {
   "cell_type": "code",
   "execution_count": null,
   "metadata": {},
   "outputs": [],
   "source": []
  }
 ],
 "metadata": {
  "kernelspec": {
   "display_name": "Python 3",
   "language": "python",
   "name": "python3"
  },
  "language_info": {
   "codemirror_mode": {
    "name": "ipython",
    "version": 3
   },
   "file_extension": ".py",
   "mimetype": "text/x-python",
   "name": "python",
   "nbconvert_exporter": "python",
   "pygments_lexer": "ipython3",
   "version": "3.6.5"
  }
 },
 "nbformat": 4,
 "nbformat_minor": 2
}
